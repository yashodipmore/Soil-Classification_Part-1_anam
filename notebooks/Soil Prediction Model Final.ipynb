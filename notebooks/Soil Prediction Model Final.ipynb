{
 "cells": [
  {
   "cell_type": "markdown",
   "id": "73f88afc-dd1d-4176-bf15-76b5cdd1e596",
   "metadata": {
    "execution": {
     "iopub.execute_input": "2025-05-22T10:40:24.932703Z",
     "iopub.status.busy": "2025-05-22T10:40:24.932043Z",
     "iopub.status.idle": "2025-05-22T10:40:24.936562Z",
     "shell.execute_reply": "2025-05-22T10:40:24.935811Z"
    },
    "papermill": {
     "duration": 0.009972,
     "end_time": "2025-05-22T10:40:24.937836",
     "exception": false,
     "start_time": "2025-05-22T10:40:24.927864",
     "status": "completed"
    },
    "tags": []
   },
   "source": [
    "#### Team Leader: Yashodip More, Electrical Engineering, RC Patel Institute of Technology, Shirpur, Maharashtra – yashodipmore2004@gmail.com\n",
    "#### Team Member: S.M. Sakthivel, AI & Data Science, Achariya College of Engineering Technology, Puducherry – s.m.sakthivelofficial@gmail.com\n",
    "#### Team Member: Komal Kumavat, Electrical Engineering, RC Patel Institute of Technology, Shirpur, Maharashtra – komalkumavat025@gmail.com"
   ]
  },
  {
   "cell_type": "markdown",
   "id": "95824165-3012-4c45-b5a8-77e509839797",
   "metadata": {},
   "source": [
    "## STEP 1: IMPORTS & SETUP"
   ]
  },
  {
   "cell_type": "code",
   "execution_count": 2,
   "id": "f4f4ffe5",
   "metadata": {
    "execution": {
     "iopub.execute_input": "2025-05-22T10:40:24.944612Z",
     "iopub.status.busy": "2025-05-22T10:40:24.943889Z",
     "iopub.status.idle": "2025-05-22T10:40:40.119767Z",
     "shell.execute_reply": "2025-05-22T10:40:40.118883Z"
    },
    "papermill": {
     "duration": 15.18075,
     "end_time": "2025-05-22T10:40:40.121513",
     "exception": false,
     "start_time": "2025-05-22T10:40:24.940763",
     "status": "completed"
    },
    "tags": []
   },
   "outputs": [],
   "source": [
    "\n",
    "import os\n",
    "import pandas as pd\n",
    "import numpy as np\n",
    "from sklearn.metrics import f1_score, classification_report\n",
    "from sklearn.model_selection import train_test_split\n",
    "from torchvision import datasets, transforms, models\n",
    "import torch\n",
    "from torch.utils.data import Dataset, DataLoader\n",
    "from PIL import Image\n",
    "import torch.nn as nn\n",
    "import torch.optim as optim\n",
    "from tqdm import tqdm\n"
   ]
  },
  {
   "cell_type": "markdown",
   "id": "393cd85f-01f9-4c19-9253-683d32fcd6b7",
   "metadata": {},
   "source": [
    "## Imports, Device Setup & Paths"
   ]
  },
  {
   "cell_type": "code",
   "execution_count": null,
   "id": "cc45f3dc",
   "metadata": {
    "execution": {
     "iopub.execute_input": "2025-05-22T10:40:40.127680Z",
     "iopub.status.busy": "2025-05-22T10:40:40.127266Z",
     "iopub.status.idle": "2025-05-22T10:40:40.137455Z",
     "shell.execute_reply": "2025-05-22T10:40:40.136436Z"
    },
    "papermill": {
     "duration": 0.014638,
     "end_time": "2025-05-22T10:40:40.138765",
     "exception": false,
     "start_time": "2025-05-22T10:40:40.124127",
     "status": "completed"
    },
    "tags": []
   },
   "outputs": [
    {
     "name": "stdout",
     "output_type": "stream",
     "text": [
      "Using: cpu\n"
     ]
    }
   ],
   "source": [
    "# Imports\n",
    "import os\n",
    "import pandas as pd\n",
    "import numpy as np\n",
    "from sklearn.model_selection import train_test_split\n",
    "from sklearn.metrics import f1_score\n",
    "from tqdm import tqdm\n",
    "\n",
    "import torch\n",
    "import torch.nn as nn\n",
    "from torch.utils.data import Dataset, DataLoader\n",
    "from torchvision import transforms, models\n",
    "from PIL import Image\n",
    "\n",
    "# Device setup\n",
    "device = torch.device(\"cuda\" if torch.cuda.is_available() else \"cpu\")\n",
    "print(\"Using:\", device)\n",
    "\n",
    "# Paths\n",
    "BASE_PATH = '/kaggle/input/soil-classification/soil_classification-2025'\n",
    "TRAIN_DIR = os.path.join(BASE_PATH, 'train')\n",
    "TEST_DIR = os.path.join(BASE_PATH, 'test')\n",
    "LABELS_CSV = os.path.join(BASE_PATH, 'train_labels.csv')\n",
    "TEST_IDS_CSV = os.path.join(BASE_PATH, 'test_ids.csv')"
   ]
  },
  {
   "cell_type": "markdown",
   "id": "a14f6b3e-017f-4d6c-9c64-0b6129b331d3",
   "metadata": {},
   "source": [
    "## Load Labels, Train/Val Split & Transformations"
   ]
  },
  {
   "cell_type": "code",
   "execution_count": null,
   "id": "15cf459f",
   "metadata": {
    "execution": {
     "iopub.execute_input": "2025-05-22T10:40:40.145123Z",
     "iopub.status.busy": "2025-05-22T10:40:40.144825Z",
     "iopub.status.idle": "2025-05-22T10:40:40.189100Z",
     "shell.execute_reply": "2025-05-22T10:40:40.188318Z"
    },
    "papermill": {
     "duration": 0.049388,
     "end_time": "2025-05-22T10:40:40.190742",
     "exception": false,
     "start_time": "2025-05-22T10:40:40.141354",
     "status": "completed"
    },
    "tags": []
   },
   "outputs": [],
   "source": [
    "# Load labels\n",
    "df = pd.read_csv(LABELS_CSV)\n",
    "df['image'] = df['image_id']\n",
    "label_mapping = {label: idx for idx, label in enumerate(df['soil_type'].unique())}\n",
    "inv_label_mapping = {v: k for k, v in label_mapping.items()}\n",
    "df['label'] = df['soil_type'].map(label_mapping)\n",
    "\n",
    "#  Train/Val split\n",
    "train_df, val_df = train_test_split(df, test_size=0.15, stratify=df['label'], random_state=42)\n",
    "\n",
    "#  Transformations\n",
    "image_transforms = {\n",
    "    'train': transforms.Compose([\n",
    "        transforms.Resize((224, 224)),\n",
    "        transforms.RandomHorizontalFlip(),\n",
    "        transforms.RandomRotation(15),\n",
    "        transforms.ToTensor(),\n",
    "        transforms.Normalize([0.5]*3, [0.5]*3)\n",
    "    ]),\n",
    "    'val': transforms.Compose([\n",
    "        transforms.Resize((224, 224)),\n",
    "        transforms.ToTensor(),\n",
    "        transforms.Normalize([0.5]*3, [0.5]*3)\n",
    "    ]),\n",
    "    'test': transforms.Compose([\n",
    "        transforms.Resize((224, 224)),\n",
    "        transforms.ToTensor(),\n",
    "        transforms.Normalize([0.5]*3, [0.5]*3)\n",
    "    ])\n",
    "}"
   ]
  },
  {
   "cell_type": "markdown",
   "id": "ac1ae4b2-7454-4572-b99a-cd0c4f1d36c2",
   "metadata": {},
   "source": [
    "##  Dataset, Dataloaders, Model Definition & Training Setup"
   ]
  },
  {
   "cell_type": "code",
   "execution_count": null,
   "id": "47a23136",
   "metadata": {
    "execution": {
     "iopub.execute_input": "2025-05-22T10:40:40.197264Z",
     "iopub.status.busy": "2025-05-22T10:40:40.196917Z",
     "iopub.status.idle": "2025-05-22T10:40:40.824496Z",
     "shell.execute_reply": "2025-05-22T10:40:40.823506Z"
    },
    "papermill": {
     "duration": 0.632467,
     "end_time": "2025-05-22T10:40:40.826101",
     "exception": false,
     "start_time": "2025-05-22T10:40:40.193634",
     "status": "completed"
    },
    "tags": []
   },
   "outputs": [
    {
     "name": "stderr",
     "output_type": "stream",
     "text": [
      "/usr/local/lib/python3.11/dist-packages/torchvision/models/_utils.py:208: UserWarning: The parameter 'pretrained' is deprecated since 0.13 and may be removed in the future, please use 'weights' instead.\n",
      "  warnings.warn(\n",
      "/usr/local/lib/python3.11/dist-packages/torchvision/models/_utils.py:223: UserWarning: Arguments other than a weight enum or `None` for 'weights' are deprecated since 0.13 and may be removed in the future. The current behavior is equivalent to passing `weights=ResNet18_Weights.IMAGENET1K_V1`. You can also use `weights=ResNet18_Weights.DEFAULT` to get the most up-to-date weights.\n",
      "  warnings.warn(msg)\n",
      "Downloading: \"https://download.pytorch.org/models/resnet18-f37072fd.pth\" to /root/.cache/torch/hub/checkpoints/resnet18-f37072fd.pth\n",
      "100%|██████████| 44.7M/44.7M [00:00<00:00, 165MB/s]\n"
     ]
    }
   ],
   "source": [
    "\n",
    "\n",
    "#  Dataset\n",
    "class SoilDataset(Dataset):\n",
    "    def __init__(self, dataframe, img_dir, transform=None, is_test=False):\n",
    "        self.df = dataframe\n",
    "        self.img_dir = img_dir\n",
    "        self.transform = transform\n",
    "        self.is_test = is_test\n",
    "\n",
    "    def __len__(self):\n",
    "        return len(self.df)\n",
    "\n",
    "    def __getitem__(self, idx):\n",
    "        image_id = self.df.iloc[idx]['image']\n",
    "        img_path = os.path.join(self.img_dir, image_id)\n",
    "        image = Image.open(img_path).convert('RGB')\n",
    "\n",
    "        if self.transform:\n",
    "            image = self.transform(image)\n",
    "\n",
    "        if self.is_test:\n",
    "            return image, image_id\n",
    "        else:\n",
    "            label = self.df.iloc[idx]['label']\n",
    "            return image, label\n",
    "\n",
    "#  Dataloaders\n",
    "train_dataset = SoilDataset(train_df, TRAIN_DIR, transform=image_transforms['train'])\n",
    "val_dataset = SoilDataset(val_df, TRAIN_DIR, transform=image_transforms['val'])\n",
    "\n",
    "train_loader = DataLoader(train_dataset, batch_size=32, shuffle=True)\n",
    "val_loader = DataLoader(val_dataset, batch_size=32, shuffle=False)\n",
    "\n",
    "#  Model\n",
    "model = models.resnet18(pretrained=True)\n",
    "model.fc = nn.Linear(model.fc.in_features, len(label_mapping))\n",
    "model = model.to(device)\n",
    "\n",
    "#  Loss and Optimizer\n",
    "criterion = nn.CrossEntropyLoss()\n",
    "optimizer = torch.optim.Adam(model.parameters(), lr=1e-4)\n",
    "\n",
    "\n"
   ]
  },
  {
   "cell_type": "markdown",
   "id": "f462b2e4-6e76-480d-a8b0-78fd433ede11",
   "metadata": {},
   "source": [
    "## Training & Validation Loop"
   ]
  },
  {
   "cell_type": "code",
   "execution_count": null,
   "id": "0108c403",
   "metadata": {
    "execution": {
     "iopub.execute_input": "2025-05-22T10:40:40.833495Z",
     "iopub.status.busy": "2025-05-22T10:40:40.832800Z",
     "iopub.status.idle": "2025-05-22T11:04:12.412360Z",
     "shell.execute_reply": "2025-05-22T11:04:12.411181Z"
    },
    "papermill": {
     "duration": 1411.60423,
     "end_time": "2025-05-22T11:04:12.433298",
     "exception": false,
     "start_time": "2025-05-22T10:40:40.829068",
     "status": "completed"
    },
    "tags": []
   },
   "outputs": [
    {
     "name": "stderr",
     "output_type": "stream",
     "text": [
      "Epoch 1/10: 100%|██████████| 33/33 [02:24<00:00,  4.37s/it]\n"
     ]
    },
    {
     "name": "stdout",
     "output_type": "stream",
     "text": [
      "Epoch 1 - Train Loss: 15.1053, Min F1: 0.8852, F1s: [0.9433962264150944, 0.8852459016393444, 0.9873417721518987, 0.9565217391304348]\n"
     ]
    },
    {
     "name": "stderr",
     "output_type": "stream",
     "text": [
      "Epoch 2/10: 100%|██████████| 33/33 [02:13<00:00,  4.04s/it]\n"
     ]
    },
    {
     "name": "stdout",
     "output_type": "stream",
     "text": [
      "Epoch 2 - Train Loss: 3.6775, Min F1: 0.9492, F1s: [0.95, 0.9491525423728815, 0.9743589743589743, 0.9577464788732395]\n"
     ]
    },
    {
     "name": "stderr",
     "output_type": "stream",
     "text": [
      "Epoch 3/10: 100%|██████████| 33/33 [02:10<00:00,  3.97s/it]\n"
     ]
    },
    {
     "name": "stdout",
     "output_type": "stream",
     "text": [
      "Epoch 3 - Train Loss: 2.9965, Min F1: 0.9677, F1s: [0.974025974025974, 0.967741935483871, 1.0, 0.9722222222222222]\n"
     ]
    },
    {
     "name": "stderr",
     "output_type": "stream",
     "text": [
      "Epoch 4/10: 100%|██████████| 33/33 [02:09<00:00,  3.94s/it]\n"
     ]
    },
    {
     "name": "stdout",
     "output_type": "stream",
     "text": [
      "Epoch 4 - Train Loss: 2.6061, Min F1: 0.9667, F1s: [0.975, 0.9666666666666667, 1.0, 0.9705882352941176]\n"
     ]
    },
    {
     "name": "stderr",
     "output_type": "stream",
     "text": [
      "Epoch 5/10: 100%|██████████| 33/33 [02:10<00:00,  3.96s/it]\n"
     ]
    },
    {
     "name": "stdout",
     "output_type": "stream",
     "text": [
      "Epoch 5 - Train Loss: 1.8467, Min F1: 0.9836, F1s: [0.9873417721518988, 0.9836065573770492, 1.0, 0.9855072463768115]\n"
     ]
    },
    {
     "name": "stderr",
     "output_type": "stream",
     "text": [
      "Epoch 6/10: 100%|██████████| 33/33 [02:12<00:00,  4.01s/it]\n"
     ]
    },
    {
     "name": "stdout",
     "output_type": "stream",
     "text": [
      "Epoch 6 - Train Loss: 1.5453, Min F1: 0.9836, F1s: [0.9873417721518988, 0.9836065573770492, 1.0, 0.9855072463768115]\n"
     ]
    },
    {
     "name": "stderr",
     "output_type": "stream",
     "text": [
      "Epoch 7/10: 100%|██████████| 33/33 [02:12<00:00,  4.00s/it]\n"
     ]
    },
    {
     "name": "stdout",
     "output_type": "stream",
     "text": [
      "Epoch 7 - Train Loss: 1.3194, Min F1: 0.9722, F1s: [0.9806451612903226, 0.9836065573770492, 1.0, 0.9722222222222222]\n"
     ]
    },
    {
     "name": "stderr",
     "output_type": "stream",
     "text": [
      "Epoch 8/10: 100%|██████████| 33/33 [02:11<00:00,  3.99s/it]\n"
     ]
    },
    {
     "name": "stdout",
     "output_type": "stream",
     "text": [
      "Epoch 8 - Train Loss: 1.0323, Min F1: 0.9859, F1s: [0.9936305732484078, 1.0, 1.0, 0.9859154929577464]\n"
     ]
    },
    {
     "name": "stderr",
     "output_type": "stream",
     "text": [
      "Epoch 9/10: 100%|██████████| 33/33 [02:11<00:00,  3.98s/it]\n"
     ]
    },
    {
     "name": "stdout",
     "output_type": "stream",
     "text": [
      "Epoch 9 - Train Loss: 0.9516, Min F1: 0.9855, F1s: [0.9937106918238994, 1.0, 1.0, 0.9855072463768115]\n"
     ]
    },
    {
     "name": "stderr",
     "output_type": "stream",
     "text": [
      "Epoch 10/10: 100%|██████████| 33/33 [02:10<00:00,  3.96s/it]\n"
     ]
    },
    {
     "name": "stdout",
     "output_type": "stream",
     "text": [
      "Epoch 10 - Train Loss: 0.6873, Min F1: 1.0000, F1s: [1.0, 1.0, 1.0, 1.0]\n"
     ]
    }
   ],
   "source": [
    "#  Training loop\n",
    "EPOCHS = 10\n",
    "for epoch in range(EPOCHS):\n",
    "    model.train()\n",
    "    train_loss = 0\n",
    "    for images, labels in tqdm(train_loader, desc=f'Epoch {epoch+1}/{EPOCHS}'):\n",
    "        images, labels = images.to(device), labels.to(device)\n",
    "\n",
    "        optimizer.zero_grad()\n",
    "        outputs = model(images)\n",
    "        loss = criterion(outputs, labels)\n",
    "        loss.backward()\n",
    "        optimizer.step()\n",
    "\n",
    "        train_loss += loss.item()\n",
    "\n",
    "    # Validation\n",
    "    model.eval()\n",
    "    val_preds, val_labels = [], []\n",
    "    with torch.no_grad():\n",
    "        for images, labels in val_loader:\n",
    "            images = images.to(device)\n",
    "            outputs = model(images)\n",
    "            preds = outputs.argmax(1).cpu().numpy()\n",
    "            val_preds.extend(preds)\n",
    "            val_labels.extend(labels.numpy())\n",
    "\n",
    "    f1_scores = []\n",
    "    for i in range(len(label_mapping)):\n",
    "        f1 = f1_score(np.array(val_labels) == i, np.array(val_preds) == i)\n",
    "        f1_scores.append(f1)\n",
    "\n",
    "    print(f\"Epoch {epoch+1} - Train Loss: {train_loss:.4f}, Min F1: {min(f1_scores):.4f}, F1s: {f1_scores}\")\n"
   ]
  },
  {
   "cell_type": "markdown",
   "id": "e953531a-a8d7-4739-baba-146da88dee54",
   "metadata": {},
   "source": [
    "## Test Set Prediction & Submission"
   ]
  },
  {
   "cell_type": "code",
   "execution_count": null,
   "id": "9650e7ab",
   "metadata": {
    "execution": {
     "iopub.execute_input": "2025-05-22T11:04:12.474351Z",
     "iopub.status.busy": "2025-05-22T11:04:12.474027Z",
     "iopub.status.idle": "2025-05-22T11:04:28.838544Z",
     "shell.execute_reply": "2025-05-22T11:04:28.837579Z"
    },
    "papermill": {
     "duration": 16.386667,
     "end_time": "2025-05-22T11:04:28.840077",
     "exception": false,
     "start_time": "2025-05-22T11:04:12.453410",
     "status": "completed"
    },
    "tags": []
   },
   "outputs": [
    {
     "name": "stdout",
     "output_type": "stream",
     "text": [
      "✅ submission.csv saved!\n"
     ]
    }
   ],
   "source": [
    "\n",
    "#  Test prediction\n",
    "test_ids = pd.read_csv(TEST_IDS_CSV)\n",
    "test_ids['image'] = test_ids['image_id']\n",
    "test_dataset = SoilDataset(test_ids, TEST_DIR, transform=image_transforms['test'], is_test=True)\n",
    "test_loader = DataLoader(test_dataset, batch_size=32, shuffle=False)\n",
    "\n",
    "model.eval()\n",
    "test_preds = []\n",
    "image_names = []\n",
    "\n",
    "with torch.no_grad():\n",
    "    for images, image_ids in test_loader:\n",
    "        images = images.to(device)\n",
    "        outputs = model(images)\n",
    "        preds = outputs.argmax(1).cpu().numpy()\n",
    "        test_preds.extend(preds)\n",
    "        image_names.extend(image_ids)\n",
    "\n",
    "#  Map back to soil type\n",
    "final_labels = [inv_label_mapping[p] for p in test_preds]\n",
    "submission = pd.DataFrame({\n",
    "    'image_id': image_names,\n",
    "    'soil_type': final_labels\n",
    "})\n",
    "\n",
    "submission.to_csv('submission.csv', index=False)\n",
    "print(\"submission.csv saved!\")\n"
   ]
  },
  {
   "cell_type": "code",
   "execution_count": 8,
   "id": "293f51a3",
   "metadata": {
    "execution": {
     "iopub.execute_input": "2025-05-22T11:04:28.881452Z",
     "iopub.status.busy": "2025-05-22T11:04:28.881096Z",
     "iopub.status.idle": "2025-05-22T11:04:28.904442Z",
     "shell.execute_reply": "2025-05-22T11:04:28.903589Z"
    },
    "papermill": {
     "duration": 0.045591,
     "end_time": "2025-05-22T11:04:28.905931",
     "exception": false,
     "start_time": "2025-05-22T11:04:28.860340",
     "status": "completed"
    },
    "tags": []
   },
   "outputs": [
    {
     "data": {
      "text/html": [
       "<div>\n",
       "<style scoped>\n",
       "    .dataframe tbody tr th:only-of-type {\n",
       "        vertical-align: middle;\n",
       "    }\n",
       "\n",
       "    .dataframe tbody tr th {\n",
       "        vertical-align: top;\n",
       "    }\n",
       "\n",
       "    .dataframe thead th {\n",
       "        text-align: right;\n",
       "    }\n",
       "</style>\n",
       "<table border=\"1\" class=\"dataframe\">\n",
       "  <thead>\n",
       "    <tr style=\"text-align: right;\">\n",
       "      <th></th>\n",
       "      <th>image_id</th>\n",
       "      <th>soil_type</th>\n",
       "    </tr>\n",
       "  </thead>\n",
       "  <tbody>\n",
       "    <tr>\n",
       "      <th>0</th>\n",
       "      <td>img_cdf80d6f.jpeg</td>\n",
       "      <td>Alluvial soil</td>\n",
       "    </tr>\n",
       "    <tr>\n",
       "      <th>1</th>\n",
       "      <td>img_c0142a80.jpg</td>\n",
       "      <td>Alluvial soil</td>\n",
       "    </tr>\n",
       "    <tr>\n",
       "      <th>2</th>\n",
       "      <td>img_91168fb0.jpg</td>\n",
       "      <td>Alluvial soil</td>\n",
       "    </tr>\n",
       "    <tr>\n",
       "      <th>3</th>\n",
       "      <td>img_9822190f.jpg</td>\n",
       "      <td>Alluvial soil</td>\n",
       "    </tr>\n",
       "    <tr>\n",
       "      <th>4</th>\n",
       "      <td>img_e5fc436c.jpeg</td>\n",
       "      <td>Alluvial soil</td>\n",
       "    </tr>\n",
       "    <tr>\n",
       "      <th>...</th>\n",
       "      <td>...</td>\n",
       "      <td>...</td>\n",
       "    </tr>\n",
       "    <tr>\n",
       "      <th>72</th>\n",
       "      <td>img_64d9cdbe.jpg</td>\n",
       "      <td>Clay soil</td>\n",
       "    </tr>\n",
       "    <tr>\n",
       "      <th>73</th>\n",
       "      <td>img_5e5ff453.jpg</td>\n",
       "      <td>Clay soil</td>\n",
       "    </tr>\n",
       "    <tr>\n",
       "      <th>74</th>\n",
       "      <td>img_2c4f84e3.jpg</td>\n",
       "      <td>Clay soil</td>\n",
       "    </tr>\n",
       "    <tr>\n",
       "      <th>75</th>\n",
       "      <td>img_0a40bbe2.jpg</td>\n",
       "      <td>Clay soil</td>\n",
       "    </tr>\n",
       "    <tr>\n",
       "      <th>76</th>\n",
       "      <td>img_3bbdb754.jpg</td>\n",
       "      <td>Clay soil</td>\n",
       "    </tr>\n",
       "  </tbody>\n",
       "</table>\n",
       "<p>77 rows × 2 columns</p>\n",
       "</div>"
      ],
      "text/plain": [
       "             image_id      soil_type\n",
       "0   img_cdf80d6f.jpeg  Alluvial soil\n",
       "1    img_c0142a80.jpg  Alluvial soil\n",
       "2    img_91168fb0.jpg  Alluvial soil\n",
       "3    img_9822190f.jpg  Alluvial soil\n",
       "4   img_e5fc436c.jpeg  Alluvial soil\n",
       "..                ...            ...\n",
       "72   img_64d9cdbe.jpg      Clay soil\n",
       "73   img_5e5ff453.jpg      Clay soil\n",
       "74   img_2c4f84e3.jpg      Clay soil\n",
       "75   img_0a40bbe2.jpg      Clay soil\n",
       "76   img_3bbdb754.jpg      Clay soil\n",
       "\n",
       "[77 rows x 2 columns]"
      ]
     },
     "execution_count": 8,
     "metadata": {},
     "output_type": "execute_result"
    }
   ],
   "source": [
    "import pandas as pd\n",
    "\n",
    "# Load and display the submission file\n",
    "submission = pd.read_csv('submission.csv')\n",
    "submission.head(77)  # Show the first 10 predictions (you can change the number)\n"
   ]
  }
 ],
 "metadata": {
  "kaggle": {
   "accelerator": "none",
   "dataSources": [
    {
     "databundleVersionId": 12375409,
     "sourceId": 102672,
     "sourceType": "competition"
    }
   ],
   "dockerImageVersionId": 31040,
   "isGpuEnabled": false,
   "isInternetEnabled": true,
   "language": "python",
   "sourceType": "notebook"
  },
  "kernelspec": {
   "display_name": "Python 3 (ipykernel)",
   "language": "python",
   "name": "python3"
  },
  "language_info": {
   "codemirror_mode": {
    "name": "ipython",
    "version": 3
   },
   "file_extension": ".py",
   "mimetype": "text/x-python",
   "name": "python",
   "nbconvert_exporter": "python",
   "pygments_lexer": "ipython3",
   "version": "3.12.7"
  },
  "papermill": {
   "default_parameters": {},
   "duration": 1451.93327,
   "end_time": "2025-05-22T11:04:32.050242",
   "environment_variables": {},
   "exception": null,
   "input_path": "__notebook__.ipynb",
   "output_path": "__notebook__.ipynb",
   "parameters": {},
   "start_time": "2025-05-22T10:40:20.116972",
   "version": "2.6.0"
  }
 },
 "nbformat": 4,
 "nbformat_minor": 5
}
